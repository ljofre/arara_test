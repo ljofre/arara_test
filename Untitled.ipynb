{
 "cells": [
  {
   "cell_type": "code",
   "execution_count": 32,
   "metadata": {
    "collapsed": false
   },
   "outputs": [
    {
     "data": {
      "text/plain": [
       "'0x10'"
      ]
     },
     "execution_count": 32,
     "metadata": {},
     "output_type": "execute_result"
    }
   ],
   "source": [
    "#comparación de numeros binarios\n",
    "\n",
    "#binario a hexadecimal\n",
    "hex(int('00000000000000000000000000010000',2))"
   ]
  },
  {
   "cell_type": "code",
   "execution_count": 23,
   "metadata": {
    "collapsed": false
   },
   "outputs": [
    {
     "name": "stdout",
     "output_type": "stream",
     "text": [
      "00001000000000000000000000000100\n",
      "00000000000000000000000000000100\n",
      "00000000000000000000000000010000\n"
     ]
    }
   ],
   "source": [
    "my_hexdata = \"1a\"\n",
    "\n",
    "scale = 16 ## equals to hexadecimal\n",
    "\n",
    "num_of_bits = 32\n",
    "print bin(int(\"08000004\", scale))[2:].zfill(num_of_bits)\n",
    "\n",
    "print bin(int(\"00000004\", scale))[2:].zfill(num_of_bits) #deberia ser 00000010\n",
    "\n",
    "print bin(int(\"00000010\", scale))[2:].zfill(num_of_bits)"
   ]
  },
  {
   "cell_type": "code",
   "execution_count": 31,
   "metadata": {
    "collapsed": false
   },
   "outputs": [
    {
     "name": "stdout",
     "output_type": "stream",
     "text": [
      "00001000000000000000000000101001\n",
      "0xa4\n",
      "00000000000000000000000010100100\n"
     ]
    }
   ],
   "source": [
    "my_hexdata = \"1a\"\n",
    "\n",
    "scale = 16 ## equals to hexadecimal\n",
    "\n",
    "num_of_bits = 32\n",
    "print bin(int(\"08000029\", scale))[2:].zfill(num_of_bits)\n",
    "\n",
    "print hex(int(bin(int(\"00000029\", scale))[2:].zfill(num_of_bits-2)+'00',2)) #deberia ser 000000a4\n",
    "\n",
    "print bin(int(\"000000a4\", scale))[2:].zfill(num_of_bits)"
   ]
  },
  {
   "cell_type": "code",
   "execution_count": null,
   "metadata": {
    "collapsed": true
   },
   "outputs": [],
   "source": []
  }
 ],
 "metadata": {
  "kernelspec": {
   "display_name": "Python 2",
   "language": "python",
   "name": "python2"
  },
  "language_info": {
   "codemirror_mode": {
    "name": "ipython",
    "version": 2
   },
   "file_extension": ".py",
   "mimetype": "text/x-python",
   "name": "python",
   "nbconvert_exporter": "python",
   "pygments_lexer": "ipython2",
   "version": "2.7.11"
  }
 },
 "nbformat": 4,
 "nbformat_minor": 0
}
